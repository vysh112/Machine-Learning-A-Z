{
 "cells": [
  {
   "cell_type": "code",
   "execution_count": 1,
   "id": "cdb55fc5",
   "metadata": {
    "_cell_guid": "b1076dfc-b9ad-4769-8c92-a6c4dae69d19",
    "_uuid": "8f2839f25d086af736a60e9eeb907d3b93b6e0e5",
    "execution": {
     "iopub.execute_input": "2023-07-22T21:09:43.686254Z",
     "iopub.status.busy": "2023-07-22T21:09:43.685725Z",
     "iopub.status.idle": "2023-07-22T21:09:43.699167Z",
     "shell.execute_reply": "2023-07-22T21:09:43.698386Z"
    },
    "papermill": {
     "duration": 0.025631,
     "end_time": "2023-07-22T21:09:43.701404",
     "exception": false,
     "start_time": "2023-07-22T21:09:43.675773",
     "status": "completed"
    },
    "tags": []
   },
   "outputs": [],
   "source": [
    "import pandas as pd\n",
    "import numpy as np\n",
    "import matplotlib.pyplot as plt\n",
    "import math"
   ]
  },
  {
   "cell_type": "code",
   "execution_count": 2,
   "id": "7a15676f",
   "metadata": {
    "execution": {
     "iopub.execute_input": "2023-07-22T21:09:43.718208Z",
     "iopub.status.busy": "2023-07-22T21:09:43.717191Z",
     "iopub.status.idle": "2023-07-22T21:09:47.784063Z",
     "shell.execute_reply": "2023-07-22T21:09:47.782981Z"
    },
    "papermill": {
     "duration": 4.078643,
     "end_time": "2023-07-22T21:09:47.787451",
     "exception": false,
     "start_time": "2023-07-22T21:09:43.708808",
     "status": "completed"
    },
    "tags": []
   },
   "outputs": [
    {
     "data": {
      "text/html": [
       "<div>\n",
       "<style scoped>\n",
       "    .dataframe tbody tr th:only-of-type {\n",
       "        vertical-align: middle;\n",
       "    }\n",
       "\n",
       "    .dataframe tbody tr th {\n",
       "        vertical-align: top;\n",
       "    }\n",
       "\n",
       "    .dataframe thead th {\n",
       "        text-align: right;\n",
       "    }\n",
       "</style>\n",
       "<table border=\"1\" class=\"dataframe\">\n",
       "  <thead>\n",
       "    <tr style=\"text-align: right;\">\n",
       "      <th></th>\n",
       "      <th>label</th>\n",
       "      <th>pixel0</th>\n",
       "      <th>pixel1</th>\n",
       "      <th>pixel2</th>\n",
       "      <th>pixel3</th>\n",
       "      <th>pixel4</th>\n",
       "      <th>pixel5</th>\n",
       "      <th>pixel6</th>\n",
       "      <th>pixel7</th>\n",
       "      <th>pixel8</th>\n",
       "      <th>...</th>\n",
       "      <th>pixel774</th>\n",
       "      <th>pixel775</th>\n",
       "      <th>pixel776</th>\n",
       "      <th>pixel777</th>\n",
       "      <th>pixel778</th>\n",
       "      <th>pixel779</th>\n",
       "      <th>pixel780</th>\n",
       "      <th>pixel781</th>\n",
       "      <th>pixel782</th>\n",
       "      <th>pixel783</th>\n",
       "    </tr>\n",
       "  </thead>\n",
       "  <tbody>\n",
       "    <tr>\n",
       "      <th>0</th>\n",
       "      <td>1</td>\n",
       "      <td>0</td>\n",
       "      <td>0</td>\n",
       "      <td>0</td>\n",
       "      <td>0</td>\n",
       "      <td>0</td>\n",
       "      <td>0</td>\n",
       "      <td>0</td>\n",
       "      <td>0</td>\n",
       "      <td>0</td>\n",
       "      <td>...</td>\n",
       "      <td>0</td>\n",
       "      <td>0</td>\n",
       "      <td>0</td>\n",
       "      <td>0</td>\n",
       "      <td>0</td>\n",
       "      <td>0</td>\n",
       "      <td>0</td>\n",
       "      <td>0</td>\n",
       "      <td>0</td>\n",
       "      <td>0</td>\n",
       "    </tr>\n",
       "    <tr>\n",
       "      <th>1</th>\n",
       "      <td>0</td>\n",
       "      <td>0</td>\n",
       "      <td>0</td>\n",
       "      <td>0</td>\n",
       "      <td>0</td>\n",
       "      <td>0</td>\n",
       "      <td>0</td>\n",
       "      <td>0</td>\n",
       "      <td>0</td>\n",
       "      <td>0</td>\n",
       "      <td>...</td>\n",
       "      <td>0</td>\n",
       "      <td>0</td>\n",
       "      <td>0</td>\n",
       "      <td>0</td>\n",
       "      <td>0</td>\n",
       "      <td>0</td>\n",
       "      <td>0</td>\n",
       "      <td>0</td>\n",
       "      <td>0</td>\n",
       "      <td>0</td>\n",
       "    </tr>\n",
       "    <tr>\n",
       "      <th>2</th>\n",
       "      <td>1</td>\n",
       "      <td>0</td>\n",
       "      <td>0</td>\n",
       "      <td>0</td>\n",
       "      <td>0</td>\n",
       "      <td>0</td>\n",
       "      <td>0</td>\n",
       "      <td>0</td>\n",
       "      <td>0</td>\n",
       "      <td>0</td>\n",
       "      <td>...</td>\n",
       "      <td>0</td>\n",
       "      <td>0</td>\n",
       "      <td>0</td>\n",
       "      <td>0</td>\n",
       "      <td>0</td>\n",
       "      <td>0</td>\n",
       "      <td>0</td>\n",
       "      <td>0</td>\n",
       "      <td>0</td>\n",
       "      <td>0</td>\n",
       "    </tr>\n",
       "    <tr>\n",
       "      <th>3</th>\n",
       "      <td>4</td>\n",
       "      <td>0</td>\n",
       "      <td>0</td>\n",
       "      <td>0</td>\n",
       "      <td>0</td>\n",
       "      <td>0</td>\n",
       "      <td>0</td>\n",
       "      <td>0</td>\n",
       "      <td>0</td>\n",
       "      <td>0</td>\n",
       "      <td>...</td>\n",
       "      <td>0</td>\n",
       "      <td>0</td>\n",
       "      <td>0</td>\n",
       "      <td>0</td>\n",
       "      <td>0</td>\n",
       "      <td>0</td>\n",
       "      <td>0</td>\n",
       "      <td>0</td>\n",
       "      <td>0</td>\n",
       "      <td>0</td>\n",
       "    </tr>\n",
       "    <tr>\n",
       "      <th>4</th>\n",
       "      <td>0</td>\n",
       "      <td>0</td>\n",
       "      <td>0</td>\n",
       "      <td>0</td>\n",
       "      <td>0</td>\n",
       "      <td>0</td>\n",
       "      <td>0</td>\n",
       "      <td>0</td>\n",
       "      <td>0</td>\n",
       "      <td>0</td>\n",
       "      <td>...</td>\n",
       "      <td>0</td>\n",
       "      <td>0</td>\n",
       "      <td>0</td>\n",
       "      <td>0</td>\n",
       "      <td>0</td>\n",
       "      <td>0</td>\n",
       "      <td>0</td>\n",
       "      <td>0</td>\n",
       "      <td>0</td>\n",
       "      <td>0</td>\n",
       "    </tr>\n",
       "  </tbody>\n",
       "</table>\n",
       "<p>5 rows × 785 columns</p>\n",
       "</div>"
      ],
      "text/plain": [
       "   label  pixel0  pixel1  pixel2  pixel3  pixel4  pixel5  pixel6  pixel7  \\\n",
       "0      1       0       0       0       0       0       0       0       0   \n",
       "1      0       0       0       0       0       0       0       0       0   \n",
       "2      1       0       0       0       0       0       0       0       0   \n",
       "3      4       0       0       0       0       0       0       0       0   \n",
       "4      0       0       0       0       0       0       0       0       0   \n",
       "\n",
       "   pixel8  ...  pixel774  pixel775  pixel776  pixel777  pixel778  pixel779  \\\n",
       "0       0  ...         0         0         0         0         0         0   \n",
       "1       0  ...         0         0         0         0         0         0   \n",
       "2       0  ...         0         0         0         0         0         0   \n",
       "3       0  ...         0         0         0         0         0         0   \n",
       "4       0  ...         0         0         0         0         0         0   \n",
       "\n",
       "   pixel780  pixel781  pixel782  pixel783  \n",
       "0         0         0         0         0  \n",
       "1         0         0         0         0  \n",
       "2         0         0         0         0  \n",
       "3         0         0         0         0  \n",
       "4         0         0         0         0  \n",
       "\n",
       "[5 rows x 785 columns]"
      ]
     },
     "execution_count": 2,
     "metadata": {},
     "output_type": "execute_result"
    }
   ],
   "source": [
    "data=pd.read_csv('/kaggle/input/digit-recognizer/train.csv')\n",
    "data.head()"
   ]
  },
  {
   "cell_type": "code",
   "execution_count": 3,
   "id": "6c756ed9",
   "metadata": {
    "execution": {
     "iopub.execute_input": "2023-07-22T21:09:47.805047Z",
     "iopub.status.busy": "2023-07-22T21:09:47.804674Z",
     "iopub.status.idle": "2023-07-22T21:09:47.905917Z",
     "shell.execute_reply": "2023-07-22T21:09:47.904835Z"
    },
    "papermill": {
     "duration": 0.112543,
     "end_time": "2023-07-22T21:09:47.908562",
     "exception": false,
     "start_time": "2023-07-22T21:09:47.796019",
     "status": "completed"
    },
    "tags": []
   },
   "outputs": [],
   "source": [
    "data= np.array(data)"
   ]
  },
  {
   "cell_type": "code",
   "execution_count": 4,
   "id": "04b23ea2",
   "metadata": {
    "execution": {
     "iopub.execute_input": "2023-07-22T21:09:47.925761Z",
     "iopub.status.busy": "2023-07-22T21:09:47.925334Z",
     "iopub.status.idle": "2023-07-22T21:09:47.930329Z",
     "shell.execute_reply": "2023-07-22T21:09:47.929291Z"
    },
    "papermill": {
     "duration": 0.016266,
     "end_time": "2023-07-22T21:09:47.932646",
     "exception": false,
     "start_time": "2023-07-22T21:09:47.916380",
     "status": "completed"
    },
    "tags": []
   },
   "outputs": [],
   "source": [
    "m,n=data.shape"
   ]
  },
  {
   "cell_type": "code",
   "execution_count": 5,
   "id": "5e430b83",
   "metadata": {
    "execution": {
     "iopub.execute_input": "2023-07-22T21:09:47.951240Z",
     "iopub.status.busy": "2023-07-22T21:09:47.950518Z",
     "iopub.status.idle": "2023-07-22T21:09:48.478110Z",
     "shell.execute_reply": "2023-07-22T21:09:48.477007Z"
    },
    "papermill": {
     "duration": 0.540581,
     "end_time": "2023-07-22T21:09:48.480764",
     "exception": false,
     "start_time": "2023-07-22T21:09:47.940183",
     "status": "completed"
    },
    "tags": []
   },
   "outputs": [],
   "source": [
    "np.random.shuffle(data)"
   ]
  },
  {
   "cell_type": "code",
   "execution_count": 6,
   "id": "64ba4478",
   "metadata": {
    "execution": {
     "iopub.execute_input": "2023-07-22T21:09:48.497178Z",
     "iopub.status.busy": "2023-07-22T21:09:48.496818Z",
     "iopub.status.idle": "2023-07-22T21:09:48.612076Z",
     "shell.execute_reply": "2023-07-22T21:09:48.610840Z"
    },
    "papermill": {
     "duration": 0.126519,
     "end_time": "2023-07-22T21:09:48.614939",
     "exception": false,
     "start_time": "2023-07-22T21:09:48.488420",
     "status": "completed"
    },
    "tags": []
   },
   "outputs": [],
   "source": [
    "data_dev = data[0:1000].T\n",
    "Y_dev = data_dev[0]\n",
    "X_dev = data_dev[1:n]\n",
    "X_dev = X_dev / 255.\n",
    "\n",
    "data_train = data[1000:m].T\n",
    "Y_train = data_train[0]\n",
    "X_train = data_train[1:n]\n",
    "X_train = X_train / 255.\n",
    "_,m_train = X_train.shape"
   ]
  },
  {
   "cell_type": "code",
   "execution_count": 7,
   "id": "f0a02940",
   "metadata": {
    "execution": {
     "iopub.execute_input": "2023-07-22T21:09:48.632184Z",
     "iopub.status.busy": "2023-07-22T21:09:48.631795Z",
     "iopub.status.idle": "2023-07-22T21:09:48.638692Z",
     "shell.execute_reply": "2023-07-22T21:09:48.637603Z"
    },
    "papermill": {
     "duration": 0.01826,
     "end_time": "2023-07-22T21:09:48.641087",
     "exception": false,
     "start_time": "2023-07-22T21:09:48.622827",
     "status": "completed"
    },
    "tags": []
   },
   "outputs": [
    {
     "data": {
      "text/plain": [
       "array([3, 0, 4, ..., 1, 0, 9])"
      ]
     },
     "execution_count": 7,
     "metadata": {},
     "output_type": "execute_result"
    }
   ],
   "source": [
    "Y_train"
   ]
  },
  {
   "cell_type": "code",
   "execution_count": 8,
   "id": "0dd4c157",
   "metadata": {
    "execution": {
     "iopub.execute_input": "2023-07-22T21:09:48.657885Z",
     "iopub.status.busy": "2023-07-22T21:09:48.657519Z",
     "iopub.status.idle": "2023-07-22T21:09:48.663592Z",
     "shell.execute_reply": "2023-07-22T21:09:48.662615Z"
    },
    "papermill": {
     "duration": 0.01704,
     "end_time": "2023-07-22T21:09:48.665831",
     "exception": false,
     "start_time": "2023-07-22T21:09:48.648791",
     "status": "completed"
    },
    "tags": []
   },
   "outputs": [],
   "source": [
    "def init_params():\n",
    "    W1 = np.random.rand(10,784) - 0.5\n",
    "    B1 = np.random.rand(10,1) - 0.5\n",
    "    W2 = np.random.rand(10,10) - 0.5\n",
    "    B2 = np.random.rand(10,1) - 0.5\n",
    "    \n",
    "    return W1,B1,W2,B2"
   ]
  },
  {
   "cell_type": "code",
   "execution_count": 9,
   "id": "fac57fdb",
   "metadata": {
    "execution": {
     "iopub.execute_input": "2023-07-22T21:09:48.683091Z",
     "iopub.status.busy": "2023-07-22T21:09:48.682096Z",
     "iopub.status.idle": "2023-07-22T21:09:48.686665Z",
     "shell.execute_reply": "2023-07-22T21:09:48.685886Z"
    },
    "papermill": {
     "duration": 0.015437,
     "end_time": "2023-07-22T21:09:48.688795",
     "exception": false,
     "start_time": "2023-07-22T21:09:48.673358",
     "status": "completed"
    },
    "tags": []
   },
   "outputs": [],
   "source": [
    "def ReLU(Z):\n",
    "    return np.maximum(Z,0) "
   ]
  },
  {
   "cell_type": "markdown",
   "id": "592fe955",
   "metadata": {
    "papermill": {
     "duration": 0.007845,
     "end_time": "2023-07-22T21:09:48.704805",
     "exception": false,
     "start_time": "2023-07-22T21:09:48.696960",
     "status": "completed"
    },
    "tags": []
   },
   "source": [
    "# denominator - sum for each column "
   ]
  },
  {
   "cell_type": "code",
   "execution_count": 10,
   "id": "36ff2d9d",
   "metadata": {
    "execution": {
     "iopub.execute_input": "2023-07-22T21:09:48.721912Z",
     "iopub.status.busy": "2023-07-22T21:09:48.721549Z",
     "iopub.status.idle": "2023-07-22T21:09:48.725900Z",
     "shell.execute_reply": "2023-07-22T21:09:48.725111Z"
    },
    "papermill": {
     "duration": 0.015398,
     "end_time": "2023-07-22T21:09:48.727878",
     "exception": false,
     "start_time": "2023-07-22T21:09:48.712480",
     "status": "completed"
    },
    "tags": []
   },
   "outputs": [],
   "source": [
    "def softmax(Z):\n",
    "    A = np.exp(Z) / sum(np.exp(Z))\n",
    "    return A\n",
    "    "
   ]
  },
  {
   "cell_type": "code",
   "execution_count": 11,
   "id": "2e104f14",
   "metadata": {
    "execution": {
     "iopub.execute_input": "2023-07-22T21:09:48.744820Z",
     "iopub.status.busy": "2023-07-22T21:09:48.744427Z",
     "iopub.status.idle": "2023-07-22T21:09:48.750243Z",
     "shell.execute_reply": "2023-07-22T21:09:48.749186Z"
    },
    "papermill": {
     "duration": 0.017256,
     "end_time": "2023-07-22T21:09:48.752635",
     "exception": false,
     "start_time": "2023-07-22T21:09:48.735379",
     "status": "completed"
    },
    "tags": []
   },
   "outputs": [],
   "source": [
    "def forward_propgation(W1,B1,W2,B2,X):\n",
    "    Z1 = W1.dot(X) + B1\n",
    "    A1 = ReLU(Z1)\n",
    "    \n",
    "    Z2 = W2.dot(A1) + B2\n",
    "    A2 = softmax(Z2)\n",
    "    \n",
    "    return Z1,A1,Z2,A2\n",
    "    "
   ]
  },
  {
   "cell_type": "markdown",
   "id": "e3b2439a",
   "metadata": {
    "papermill": {
     "duration": 0.007348,
     "end_time": "2023-07-22T21:09:48.767599",
     "exception": false,
     "start_time": "2023-07-22T21:09:48.760251",
     "status": "completed"
    },
    "tags": []
   },
   "source": [
    "# Y.size = m = number of training examples , Y.max + 1 to get 10 output classes\n",
    "    \n",
    "# np.arange(Y.size) = 0 to m (all rows basically) then access Yth column to set it to 1\n",
    "\n"
   ]
  },
  {
   "cell_type": "code",
   "execution_count": 12,
   "id": "81f0335e",
   "metadata": {
    "execution": {
     "iopub.execute_input": "2023-07-22T21:09:48.784494Z",
     "iopub.status.busy": "2023-07-22T21:09:48.784066Z",
     "iopub.status.idle": "2023-07-22T21:09:48.789910Z",
     "shell.execute_reply": "2023-07-22T21:09:48.788854Z"
    },
    "papermill": {
     "duration": 0.016898,
     "end_time": "2023-07-22T21:09:48.792128",
     "exception": false,
     "start_time": "2023-07-22T21:09:48.775230",
     "status": "completed"
    },
    "tags": []
   },
   "outputs": [],
   "source": [
    "def one_hot(Y):\n",
    "    one_hot_Y = np.zeros((Y.size, Y.max() + 1))\n",
    "    one_hot_Y[np.arange(Y.size), Y] = 1\n",
    "    one_hot_Y = one_hot_Y.T\n",
    "    return one_hot_Y"
   ]
  },
  {
   "cell_type": "code",
   "execution_count": 13,
   "id": "e271726e",
   "metadata": {
    "execution": {
     "iopub.execute_input": "2023-07-22T21:09:48.809916Z",
     "iopub.status.busy": "2023-07-22T21:09:48.809522Z",
     "iopub.status.idle": "2023-07-22T21:09:48.814086Z",
     "shell.execute_reply": "2023-07-22T21:09:48.813182Z"
    },
    "papermill": {
     "duration": 0.016514,
     "end_time": "2023-07-22T21:09:48.816282",
     "exception": false,
     "start_time": "2023-07-22T21:09:48.799768",
     "status": "completed"
    },
    "tags": []
   },
   "outputs": [],
   "source": [
    "def derivative_ReLU(Z):\n",
    "    return Z > 0 "
   ]
  },
  {
   "cell_type": "code",
   "execution_count": 14,
   "id": "264b26da",
   "metadata": {
    "execution": {
     "iopub.execute_input": "2023-07-22T21:09:48.834732Z",
     "iopub.status.busy": "2023-07-22T21:09:48.833672Z",
     "iopub.status.idle": "2023-07-22T21:09:48.840539Z",
     "shell.execute_reply": "2023-07-22T21:09:48.839615Z"
    },
    "papermill": {
     "duration": 0.018649,
     "end_time": "2023-07-22T21:09:48.843043",
     "exception": false,
     "start_time": "2023-07-22T21:09:48.824394",
     "status": "completed"
    },
    "tags": []
   },
   "outputs": [],
   "source": [
    "def backward_propgation(Z1, A1, Z2, A2, W1, W2, X, Y):\n",
    "    one_hot_Y = one_hot(Y)\n",
    "    dZ2 = A2 - one_hot_Y\n",
    "    dW2 = 1 / m * dZ2.dot(A1.T)\n",
    "    dB2 = 1 / m * np.sum(dZ2)\n",
    "    dZ1 = W2.T.dot(dZ2) * derivative_ReLU(Z1)\n",
    "    dW1 = 1 / m * dZ1.dot(X.T)\n",
    "    dB1 = 1 / m * np.sum(dZ1)\n",
    "    return dW1, dB1, dW2, dB2\n",
    "    \n",
    "    "
   ]
  },
  {
   "cell_type": "code",
   "execution_count": 15,
   "id": "a7568666",
   "metadata": {
    "execution": {
     "iopub.execute_input": "2023-07-22T21:09:48.861282Z",
     "iopub.status.busy": "2023-07-22T21:09:48.860646Z",
     "iopub.status.idle": "2023-07-22T21:09:48.866633Z",
     "shell.execute_reply": "2023-07-22T21:09:48.865791Z"
    },
    "papermill": {
     "duration": 0.017676,
     "end_time": "2023-07-22T21:09:48.868848",
     "exception": false,
     "start_time": "2023-07-22T21:09:48.851172",
     "status": "completed"
    },
    "tags": []
   },
   "outputs": [],
   "source": [
    "def update_parameters(W1,B1,W2,B2,dW1,dB1,dW2,dB2, alpha):\n",
    "    W1 = W1 - alpha * dW1\n",
    "    B1 = B1 - alpha * dB1\n",
    "    W2 = W2 - alpha * dW2\n",
    "    B2 = B2 - alpha * dB2\n",
    "    \n",
    "    return W1,B1,W2,B2"
   ]
  },
  {
   "cell_type": "code",
   "execution_count": 16,
   "id": "44828b72",
   "metadata": {
    "execution": {
     "iopub.execute_input": "2023-07-22T21:09:48.886146Z",
     "iopub.status.busy": "2023-07-22T21:09:48.885518Z",
     "iopub.status.idle": "2023-07-22T21:09:48.890885Z",
     "shell.execute_reply": "2023-07-22T21:09:48.889881Z"
    },
    "papermill": {
     "duration": 0.016597,
     "end_time": "2023-07-22T21:09:48.893121",
     "exception": false,
     "start_time": "2023-07-22T21:09:48.876524",
     "status": "completed"
    },
    "tags": []
   },
   "outputs": [],
   "source": [
    "def get_predictions(A2):\n",
    "    return np.argmax(A2,0)"
   ]
  },
  {
   "cell_type": "code",
   "execution_count": 17,
   "id": "2148d105",
   "metadata": {
    "execution": {
     "iopub.execute_input": "2023-07-22T21:09:48.911005Z",
     "iopub.status.busy": "2023-07-22T21:09:48.910346Z",
     "iopub.status.idle": "2023-07-22T21:09:48.915487Z",
     "shell.execute_reply": "2023-07-22T21:09:48.914668Z"
    },
    "papermill": {
     "duration": 0.016672,
     "end_time": "2023-07-22T21:09:48.917550",
     "exception": false,
     "start_time": "2023-07-22T21:09:48.900878",
     "status": "completed"
    },
    "tags": []
   },
   "outputs": [],
   "source": [
    "def get_accuracy(predictions,Y):\n",
    "    print(predictions, Y)\n",
    "    return np.sum(predictions == Y) / Y.size"
   ]
  },
  {
   "cell_type": "code",
   "execution_count": 18,
   "id": "007dabfe",
   "metadata": {
    "execution": {
     "iopub.execute_input": "2023-07-22T21:09:48.934824Z",
     "iopub.status.busy": "2023-07-22T21:09:48.934176Z",
     "iopub.status.idle": "2023-07-22T21:09:48.941904Z",
     "shell.execute_reply": "2023-07-22T21:09:48.941094Z"
    },
    "papermill": {
     "duration": 0.018951,
     "end_time": "2023-07-22T21:09:48.944037",
     "exception": false,
     "start_time": "2023-07-22T21:09:48.925086",
     "status": "completed"
    },
    "tags": []
   },
   "outputs": [],
   "source": [
    "def gradient_descent(X, Y, alpha, iterations):\n",
    "    W1, B1, W2, B2 = init_params()\n",
    "    for i in range(iterations):\n",
    "        Z1, A1, Z2, A2 = forward_propgation(W1, B1, W2, B2, X)\n",
    "        dW1, dB1, dW2, dB2 = backward_propgation(Z1, A1, Z2, A2, W1, W2, X, Y)\n",
    "        W1, B1, W2, B2 = update_parameters(W1, B1, W2, B2, dW1, dB1, dW2, dB2, alpha)\n",
    "        if i % 10 == 0:\n",
    "            print(\"Iteration: \", i)\n",
    "            predictions = get_predictions(A2)\n",
    "            print(get_accuracy(predictions, Y))\n",
    "    return W1, B1, W2, B2"
   ]
  },
  {
   "cell_type": "code",
   "execution_count": 19,
   "id": "513200c4",
   "metadata": {
    "execution": {
     "iopub.execute_input": "2023-07-22T21:09:48.961348Z",
     "iopub.status.busy": "2023-07-22T21:09:48.960729Z",
     "iopub.status.idle": "2023-07-22T21:11:00.401572Z",
     "shell.execute_reply": "2023-07-22T21:11:00.400009Z"
    },
    "papermill": {
     "duration": 71.45401,
     "end_time": "2023-07-22T21:11:00.405707",
     "exception": false,
     "start_time": "2023-07-22T21:09:48.951697",
     "status": "completed"
    },
    "tags": []
   },
   "outputs": [
    {
     "name": "stdout",
     "output_type": "stream",
     "text": [
      "Iteration:  0\n",
      "[0 0 7 ... 2 0 0] [3 0 4 ... 1 0 9]\n",
      "0.08382926829268293\n",
      "Iteration:  10\n",
      "[1 0 7 ... 1 0 0] [3 0 4 ... 1 0 9]\n",
      "0.24073170731707316\n",
      "Iteration:  20\n",
      "[1 0 7 ... 1 0 0] [3 0 4 ... 1 0 9]\n",
      "0.30721951219512195\n",
      "Iteration:  30\n",
      "[1 0 2 ... 1 0 0] [3 0 4 ... 1 0 9]\n",
      "0.3742439024390244\n",
      "Iteration:  40\n",
      "[1 0 2 ... 1 0 6] [3 0 4 ... 1 0 9]\n",
      "0.4143414634146341\n",
      "Iteration:  50\n",
      "[3 0 2 ... 1 0 6] [3 0 4 ... 1 0 9]\n",
      "0.4492439024390244\n",
      "Iteration:  60\n",
      "[3 0 2 ... 1 0 6] [3 0 4 ... 1 0 9]\n",
      "0.4889268292682927\n",
      "Iteration:  70\n",
      "[3 0 2 ... 1 0 6] [3 0 4 ... 1 0 9]\n",
      "0.5282926829268293\n",
      "Iteration:  80\n",
      "[3 0 2 ... 1 0 6] [3 0 4 ... 1 0 9]\n",
      "0.5622682926829269\n",
      "Iteration:  90\n",
      "[3 0 4 ... 1 0 9] [3 0 4 ... 1 0 9]\n",
      "0.5928292682926829\n",
      "Iteration:  100\n",
      "[3 0 4 ... 1 0 4] [3 0 4 ... 1 0 9]\n",
      "0.6192439024390244\n",
      "Iteration:  110\n",
      "[3 0 4 ... 1 0 4] [3 0 4 ... 1 0 9]\n",
      "0.6423658536585366\n",
      "Iteration:  120\n",
      "[3 0 4 ... 1 0 4] [3 0 4 ... 1 0 9]\n",
      "0.660829268292683\n",
      "Iteration:  130\n",
      "[3 0 4 ... 1 0 4] [3 0 4 ... 1 0 9]\n",
      "0.6762439024390244\n",
      "Iteration:  140\n",
      "[3 0 4 ... 1 0 4] [3 0 4 ... 1 0 9]\n",
      "0.6913658536585365\n",
      "Iteration:  150\n",
      "[3 0 4 ... 1 0 4] [3 0 4 ... 1 0 9]\n",
      "0.7036097560975609\n",
      "Iteration:  160\n",
      "[3 0 4 ... 1 0 4] [3 0 4 ... 1 0 9]\n",
      "0.7146829268292683\n",
      "Iteration:  170\n",
      "[3 0 4 ... 1 0 4] [3 0 4 ... 1 0 9]\n",
      "0.7241219512195122\n",
      "Iteration:  180\n",
      "[3 0 4 ... 1 0 4] [3 0 4 ... 1 0 9]\n",
      "0.7332926829268293\n",
      "Iteration:  190\n",
      "[3 0 4 ... 1 0 4] [3 0 4 ... 1 0 9]\n",
      "0.7418780487804878\n",
      "Iteration:  200\n",
      "[3 0 4 ... 1 0 4] [3 0 4 ... 1 0 9]\n",
      "0.7495365853658537\n",
      "Iteration:  210\n",
      "[3 0 4 ... 1 0 4] [3 0 4 ... 1 0 9]\n",
      "0.7563170731707317\n",
      "Iteration:  220\n",
      "[3 0 4 ... 1 0 4] [3 0 4 ... 1 0 9]\n",
      "0.7635853658536585\n",
      "Iteration:  230\n",
      "[3 0 4 ... 1 0 4] [3 0 4 ... 1 0 9]\n",
      "0.7695609756097561\n",
      "Iteration:  240\n",
      "[3 0 4 ... 1 0 4] [3 0 4 ... 1 0 9]\n",
      "0.7751707317073171\n",
      "Iteration:  250\n",
      "[3 0 4 ... 1 0 4] [3 0 4 ... 1 0 9]\n",
      "0.7797317073170732\n",
      "Iteration:  260\n",
      "[3 0 4 ... 1 0 4] [3 0 4 ... 1 0 9]\n",
      "0.7845365853658537\n",
      "Iteration:  270\n",
      "[3 0 4 ... 1 0 4] [3 0 4 ... 1 0 9]\n",
      "0.7896341463414634\n",
      "Iteration:  280\n",
      "[3 0 4 ... 1 0 4] [3 0 4 ... 1 0 9]\n",
      "0.7947073170731708\n",
      "Iteration:  290\n",
      "[3 0 4 ... 1 0 4] [3 0 4 ... 1 0 9]\n",
      "0.7988780487804878\n",
      "Iteration:  300\n",
      "[3 0 4 ... 1 0 4] [3 0 4 ... 1 0 9]\n",
      "0.8038780487804879\n",
      "Iteration:  310\n",
      "[3 0 4 ... 1 0 4] [3 0 4 ... 1 0 9]\n",
      "0.8075121951219513\n",
      "Iteration:  320\n",
      "[3 0 4 ... 1 0 4] [3 0 4 ... 1 0 9]\n",
      "0.8112682926829269\n",
      "Iteration:  330\n",
      "[3 0 4 ... 1 0 9] [3 0 4 ... 1 0 9]\n",
      "0.8145853658536585\n",
      "Iteration:  340\n",
      "[3 0 4 ... 1 0 9] [3 0 4 ... 1 0 9]\n",
      "0.8178536585365853\n",
      "Iteration:  350\n",
      "[3 0 4 ... 1 0 9] [3 0 4 ... 1 0 9]\n",
      "0.8213414634146341\n",
      "Iteration:  360\n",
      "[3 0 4 ... 1 0 9] [3 0 4 ... 1 0 9]\n",
      "0.8240731707317073\n",
      "Iteration:  370\n",
      "[3 0 4 ... 1 0 9] [3 0 4 ... 1 0 9]\n",
      "0.8266829268292682\n",
      "Iteration:  380\n",
      "[3 0 4 ... 1 0 9] [3 0 4 ... 1 0 9]\n",
      "0.8292439024390243\n",
      "Iteration:  390\n",
      "[3 0 4 ... 1 0 9] [3 0 4 ... 1 0 9]\n",
      "0.8317317073170731\n",
      "Iteration:  400\n",
      "[3 0 4 ... 1 0 9] [3 0 4 ... 1 0 9]\n",
      "0.8341463414634146\n",
      "Iteration:  410\n",
      "[3 0 4 ... 1 0 9] [3 0 4 ... 1 0 9]\n",
      "0.8363414634146341\n",
      "Iteration:  420\n",
      "[3 0 4 ... 1 0 9] [3 0 4 ... 1 0 9]\n",
      "0.8382195121951219\n",
      "Iteration:  430\n",
      "[3 0 4 ... 1 0 9] [3 0 4 ... 1 0 9]\n",
      "0.8395853658536585\n",
      "Iteration:  440\n",
      "[3 0 4 ... 1 0 9] [3 0 4 ... 1 0 9]\n",
      "0.8412439024390244\n",
      "Iteration:  450\n",
      "[3 0 4 ... 1 0 9] [3 0 4 ... 1 0 9]\n",
      "0.8429268292682927\n",
      "Iteration:  460\n",
      "[3 0 4 ... 1 0 9] [3 0 4 ... 1 0 9]\n",
      "0.8446341463414634\n",
      "Iteration:  470\n",
      "[3 0 4 ... 1 0 9] [3 0 4 ... 1 0 9]\n",
      "0.8459268292682927\n",
      "Iteration:  480\n",
      "[3 0 4 ... 1 0 9] [3 0 4 ... 1 0 9]\n",
      "0.8475853658536585\n",
      "Iteration:  490\n",
      "[3 0 4 ... 1 0 9] [3 0 4 ... 1 0 9]\n",
      "0.8489512195121951\n"
     ]
    }
   ],
   "source": [
    "W1,B1,W2,B2 = gradient_descent(X_train,Y_train,0.10, 500)"
   ]
  },
  {
   "cell_type": "code",
   "execution_count": null,
   "id": "496fb866",
   "metadata": {
    "papermill": {
     "duration": 0.023984,
     "end_time": "2023-07-22T21:11:00.456181",
     "exception": false,
     "start_time": "2023-07-22T21:11:00.432197",
     "status": "completed"
    },
    "tags": []
   },
   "outputs": [],
   "source": []
  }
 ],
 "metadata": {
  "kernelspec": {
   "display_name": "Python 3",
   "language": "python",
   "name": "python3"
  },
  "language_info": {
   "codemirror_mode": {
    "name": "ipython",
    "version": 3
   },
   "file_extension": ".py",
   "mimetype": "text/x-python",
   "name": "python",
   "nbconvert_exporter": "python",
   "pygments_lexer": "ipython3",
   "version": "3.10.12"
  },
  "papermill": {
   "default_parameters": {},
   "duration": 89.265509,
   "end_time": "2023-07-22T21:11:01.328741",
   "environment_variables": {},
   "exception": null,
   "input_path": "__notebook__.ipynb",
   "output_path": "__notebook__.ipynb",
   "parameters": {},
   "start_time": "2023-07-22T21:09:32.063232",
   "version": "2.4.0"
  }
 },
 "nbformat": 4,
 "nbformat_minor": 5
}
